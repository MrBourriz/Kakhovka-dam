{
 "cells": [
  {
   "cell_type": "markdown",
   "id": "09e6e2ad-e697-40c4-94be-8a4a4ae085c4",
   "metadata": {},
   "source": [
    "# Importing packages"
   ]
  },
  {
   "cell_type": "code",
   "execution_count": 62,
   "id": "391badb9-ab90-46a6-bc86-c5ac51d1b3fc",
   "metadata": {},
   "outputs": [],
   "source": [
    "import ee, geemap\n",
    "ee.Initialize()"
   ]
  },
  {
   "cell_type": "markdown",
   "id": "0a81c460-d4c1-411e-9a74-071ad74380fd",
   "metadata": {},
   "source": [
    "# Loading the image Before the damage"
   ]
  },
  {
   "cell_type": "code",
   "execution_count": 63,
   "id": "920f7931-dd49-4183-8058-5a85d6a11eb0",
   "metadata": {
    "tags": []
   },
   "outputs": [
    {
     "data": {
      "text/plain": [
       "{'AOT_RETRIEVAL_ACCURACY': 0,\n",
       " 'AOT_RETRIEVAL_METHOD': 'SEN2COR_DDV',\n",
       " 'BOA_ADD_OFFSET_B1': -1000,\n",
       " 'BOA_ADD_OFFSET_B10': -1000,\n",
       " 'BOA_ADD_OFFSET_B11': -1000,\n",
       " 'BOA_ADD_OFFSET_B12': -1000,\n",
       " 'BOA_ADD_OFFSET_B2': -1000,\n",
       " 'BOA_ADD_OFFSET_B3': -1000,\n",
       " 'BOA_ADD_OFFSET_B4': -1000,\n",
       " 'BOA_ADD_OFFSET_B5': -1000,\n",
       " 'BOA_ADD_OFFSET_B6': -1000,\n",
       " 'BOA_ADD_OFFSET_B7': -1000,\n",
       " 'BOA_ADD_OFFSET_B8': -1000,\n",
       " 'BOA_ADD_OFFSET_B8A': -1000,\n",
       " 'BOA_ADD_OFFSET_B9': -1000,\n",
       " 'CLOUDY_PIXEL_OVER_LAND_PERCENTAGE': 0.001978,\n",
       " 'CLOUDY_PIXEL_PERCENTAGE': 0.006886,\n",
       " 'CLOUD_COVERAGE_ASSESSMENT': 0.006886,\n",
       " 'CLOUD_SHADOW_PERCENTAGE': 0,\n",
       " 'DARK_FEATURES_PERCENTAGE': 0.003502,\n",
       " 'DATASTRIP_ID': 'S2A_OPER_MSI_L2A_DS_2APS_20230506T113603_S20230506T083559_N05.09',\n",
       " 'DATATAKE_IDENTIFIER': 'GS2A_20230506T083601_041102_N05.09',\n",
       " 'DATATAKE_TYPE': 'INS-NOBS',\n",
       " 'DEGRADED_MSI_DATA_PERCENTAGE': 0.0036,\n",
       " 'FORMAT_CORRECTNESS': 'PASSED',\n",
       " 'GENERAL_QUALITY': 'PASSED',\n",
       " 'GENERATION_TIME': 1683372963000,\n",
       " 'GEOMETRIC_QUALITY': 'PASSED',\n",
       " 'GRANULE_ID': 'L2A_T36TWS_A041102_20230506T083559',\n",
       " 'GRANULE_MEAN_AOT': 0.072112,\n",
       " 'GRANULE_MEAN_WV': 1.497406,\n",
       " 'HIGH_PROBA_CLOUDS_PERCENTAGE': 5e-06,\n",
       " 'IMAGE_DATE': '2023-05-06',\n",
       " 'L2A_QUALITY': 'PASSED',\n",
       " 'MEAN_INCIDENCE_AZIMUTH_ANGLE_B1': 107.471907638083,\n",
       " 'MEAN_INCIDENCE_AZIMUTH_ANGLE_B10': 106.716833914609,\n",
       " 'MEAN_INCIDENCE_AZIMUTH_ANGLE_B11': 107.081247723827,\n",
       " 'MEAN_INCIDENCE_AZIMUTH_ANGLE_B12': 107.43198311033,\n",
       " 'MEAN_INCIDENCE_AZIMUTH_ANGLE_B2': 105.882939906941,\n",
       " 'MEAN_INCIDENCE_AZIMUTH_ANGLE_B3': 106.280473041323,\n",
       " 'MEAN_INCIDENCE_AZIMUTH_ANGLE_B4': 106.615155022599,\n",
       " 'MEAN_INCIDENCE_AZIMUTH_ANGLE_B5': 106.801443123882,\n",
       " 'MEAN_INCIDENCE_AZIMUTH_ANGLE_B6': 106.959547079743,\n",
       " 'MEAN_INCIDENCE_AZIMUTH_ANGLE_B7': 107.123613738837,\n",
       " 'MEAN_INCIDENCE_AZIMUTH_ANGLE_B8': 106.084573694243,\n",
       " 'MEAN_INCIDENCE_AZIMUTH_ANGLE_B8A': 107.266495888373,\n",
       " 'MEAN_INCIDENCE_AZIMUTH_ANGLE_B9': 107.603015533596,\n",
       " 'MEAN_INCIDENCE_ZENITH_ANGLE_B1': 6.68578763976208,\n",
       " 'MEAN_INCIDENCE_ZENITH_ANGLE_B10': 6.46005427750856,\n",
       " 'MEAN_INCIDENCE_ZENITH_ANGLE_B11': 6.53642316672022,\n",
       " 'MEAN_INCIDENCE_ZENITH_ANGLE_B12': 6.63899172124017,\n",
       " 'MEAN_INCIDENCE_ZENITH_ANGLE_B2': 6.41072333350401,\n",
       " 'MEAN_INCIDENCE_ZENITH_ANGLE_B3': 6.44898085103981,\n",
       " 'MEAN_INCIDENCE_ZENITH_ANGLE_B4': 6.49701882861914,\n",
       " 'MEAN_INCIDENCE_ZENITH_ANGLE_B5': 6.52817191891923,\n",
       " 'MEAN_INCIDENCE_ZENITH_ANGLE_B6': 6.56261681152125,\n",
       " 'MEAN_INCIDENCE_ZENITH_ANGLE_B7': 6.60034730793032,\n",
       " 'MEAN_INCIDENCE_ZENITH_ANGLE_B8': 6.42797320247609,\n",
       " 'MEAN_INCIDENCE_ZENITH_ANGLE_B8A': 6.64110352112757,\n",
       " 'MEAN_INCIDENCE_ZENITH_ANGLE_B9': 6.73370254669278,\n",
       " 'MEAN_SOLAR_AZIMUTH_ANGLE': 154.81694686733,\n",
       " 'MEAN_SOLAR_ZENITH_ANGLE': 32.0151958433018,\n",
       " 'MEDIUM_PROBA_CLOUDS_PERCENTAGE': 0.005539,\n",
       " 'MGRS_TILE': '36TWS',\n",
       " 'NODATA_PIXEL_PERCENTAGE': 29.321063,\n",
       " 'NOMINAL_SCALE': {'AOT': 10,\n",
       "  'B1': 60,\n",
       "  'B11': 20,\n",
       "  'B12': 20,\n",
       "  'B2': 10,\n",
       "  'B3': 10,\n",
       "  'B4': 10,\n",
       "  'B5': 20,\n",
       "  'B6': 20,\n",
       "  'B7': 20,\n",
       "  'B8': 10,\n",
       "  'B8A': 20,\n",
       "  'B9': 60,\n",
       "  'MSK_CLDPRB': 20,\n",
       "  'MSK_SNWPRB': 20,\n",
       "  'QA10': 10,\n",
       "  'QA20': 20,\n",
       "  'QA60': 60,\n",
       "  'SCL': 20,\n",
       "  'TCI_B': 10,\n",
       "  'TCI_G': 10,\n",
       "  'TCI_R': 10,\n",
       "  'WVP': 10},\n",
       " 'NOT_VEGETATED_PERCENTAGE': 24.682358,\n",
       " 'OZONE_SOURCE': 'AUX_ECMWFT',\n",
       " 'OZONE_VALUE': 325.066524,\n",
       " 'PROCESSING_BASELINE': '05.09',\n",
       " 'PRODUCT_ID': 'S2A_MSIL2A_20230506T083601_N0509_R064_T36TWS_20230506T113603',\n",
       " 'RADIATIVE_TRANSFER_ACCURACY': 0,\n",
       " 'RADIOMETRIC_QUALITY': 'PASSED',\n",
       " 'REFLECTANCE_CONVERSION_CORRECTION': 0.984916702278473,\n",
       " 'SATURATED_DEFECTIVE_PIXEL_PERCENTAGE': 0,\n",
       " 'SENSING_ORBIT_DIRECTION': 'DESCENDING',\n",
       " 'SENSING_ORBIT_NUMBER': 64,\n",
       " 'SENSOR_QUALITY': 'PASSED',\n",
       " 'SNOW_ICE_PERCENTAGE': 0.000545,\n",
       " 'SOLAR_IRRADIANCE_B1': 1884.69,\n",
       " 'SOLAR_IRRADIANCE_B10': 367.15,\n",
       " 'SOLAR_IRRADIANCE_B11': 245.59,\n",
       " 'SOLAR_IRRADIANCE_B12': 85.25,\n",
       " 'SOLAR_IRRADIANCE_B2': 1959.66,\n",
       " 'SOLAR_IRRADIANCE_B3': 1823.24,\n",
       " 'SOLAR_IRRADIANCE_B4': 1512.06,\n",
       " 'SOLAR_IRRADIANCE_B5': 1424.64,\n",
       " 'SOLAR_IRRADIANCE_B6': 1287.61,\n",
       " 'SOLAR_IRRADIANCE_B7': 1162.08,\n",
       " 'SOLAR_IRRADIANCE_B8': 1041.63,\n",
       " 'SOLAR_IRRADIANCE_B8A': 955.32,\n",
       " 'SOLAR_IRRADIANCE_B9': 812.92,\n",
       " 'SPACECRAFT_NAME': 'Sentinel-2A',\n",
       " 'THIN_CIRRUS_PERCENTAGE': 0.001343,\n",
       " 'UNCLASSIFIED_PERCENTAGE': 0.44599,\n",
       " 'VEGETATION_PERCENTAGE': 70.762837,\n",
       " 'WATER_PERCENTAGE': 4.097884,\n",
       " 'WATER_VAPOUR_RETRIEVAL_ACCURACY': 0,\n",
       " 'system:asset_size': '1165.572005 MB',\n",
       " 'system:band_names': ['B1',\n",
       "  'B2',\n",
       "  'B3',\n",
       "  'B4',\n",
       "  'B5',\n",
       "  'B6',\n",
       "  'B7',\n",
       "  'B8',\n",
       "  'B8A',\n",
       "  'B9',\n",
       "  'B11',\n",
       "  'B12',\n",
       "  'AOT',\n",
       "  'WVP',\n",
       "  'SCL',\n",
       "  'TCI_R',\n",
       "  'TCI_G',\n",
       "  'TCI_B',\n",
       "  'MSK_CLDPRB',\n",
       "  'MSK_SNWPRB',\n",
       "  'QA10',\n",
       "  'QA20',\n",
       "  'QA60'],\n",
       " 'system:id': 'COPERNICUS/S2_SR_HARMONIZED/20230506T083601_20230506T083559_T36TWS',\n",
       " 'system:index': '20230506T083601_20230506T083559_T36TWS',\n",
       " 'system:time_end': '2023-05-06 08:47:18',\n",
       " 'system:time_start': '2023-05-06 08:47:18',\n",
       " 'system:version': 1686500620500663}"
      ]
     },
     "execution_count": 63,
     "metadata": {},
     "output_type": "execute_result"
    }
   ],
   "source": [
    "roi=ee.Geometry.Point(33.421689269786924, 46.803634384968575)\n",
    "MymapB=geemap.Map()\n",
    "collectionB=(ee.ImageCollection(\"COPERNICUS/S2_SR_HARMONIZED\")\n",
    "            .filterDate('2023-05-01','2023-05-31')\n",
    "            .filter(ee.Filter.lt('CLOUDY_PIXEL_PERCENTAGE',5))\n",
    "            .filterBounds(roi)\n",
    "           )\n",
    "\n",
    "MyimageB=collectionB.first()\n",
    "geemap.image_props(MyimageB).getInfo()"
   ]
  },
  {
   "cell_type": "markdown",
   "id": "ccbe360b-a1e8-4f2e-b4ca-e3ac3a87d2a6",
   "metadata": {
    "tags": []
   },
   "source": [
    "# Visualizing the image before the damage"
   ]
  },
  {
   "cell_type": "code",
   "execution_count": 64,
   "id": "83faa532-9423-47b4-aa73-6f1b3049d8e1",
   "metadata": {},
   "outputs": [
    {
     "data": {
      "application/vnd.jupyter.widget-view+json": {
       "model_id": "aea4680466ab4263985f320511ab8b83",
       "version_major": 2,
       "version_minor": 0
      },
      "text/plain": [
       "Map(center=[46.76908971710835, 33.3477253157613], controls=(WidgetControl(options=['position', 'transparent_bg…"
      ]
     },
     "execution_count": 64,
     "metadata": {},
     "output_type": "execute_result"
    }
   ],
   "source": [
    "visb={\n",
    "    'min':0.0,\n",
    "    'max':3000,\n",
    "    'bands':['B8','B3','B2'],}\n",
    "MymapB.addLayer(MyimageB,visb,'Before')\n",
    "MymapB.setCenter(33.3477253157613, 46.76908971710835,13)\n",
    "MymapB"
   ]
  },
  {
   "cell_type": "markdown",
   "id": "444acc8a-0ebb-424f-976f-d2b625fd4743",
   "metadata": {},
   "source": [
    "# Loading the image after the damage"
   ]
  },
  {
   "cell_type": "code",
   "execution_count": 67,
   "id": "4634c03e-926e-49d1-a969-ec1f57429a8b",
   "metadata": {},
   "outputs": [
    {
     "data": {
      "text/plain": [
       "{'AOT_RETRIEVAL_ACCURACY': 0,\n",
       " 'AOT_RETRIEVAL_METHOD': 'SEN2COR_DDV',\n",
       " 'BOA_ADD_OFFSET_B1': -1000,\n",
       " 'BOA_ADD_OFFSET_B10': -1000,\n",
       " 'BOA_ADD_OFFSET_B11': -1000,\n",
       " 'BOA_ADD_OFFSET_B12': -1000,\n",
       " 'BOA_ADD_OFFSET_B2': -1000,\n",
       " 'BOA_ADD_OFFSET_B3': -1000,\n",
       " 'BOA_ADD_OFFSET_B4': -1000,\n",
       " 'BOA_ADD_OFFSET_B5': -1000,\n",
       " 'BOA_ADD_OFFSET_B6': -1000,\n",
       " 'BOA_ADD_OFFSET_B7': -1000,\n",
       " 'BOA_ADD_OFFSET_B8': -1000,\n",
       " 'BOA_ADD_OFFSET_B8A': -1000,\n",
       " 'BOA_ADD_OFFSET_B9': -1000,\n",
       " 'CLOUDY_PIXEL_OVER_LAND_PERCENTAGE': 4.122439,\n",
       " 'CLOUDY_PIXEL_PERCENTAGE': 3.621003,\n",
       " 'CLOUD_COVERAGE_ASSESSMENT': 3.6210029999999995,\n",
       " 'CLOUD_SHADOW_PERCENTAGE': 2.094759,\n",
       " 'DARK_FEATURES_PERCENTAGE': 0.002718,\n",
       " 'DATASTRIP_ID': 'S2B_OPER_MSI_L2A_DS_2BPS_20230603T102306_S20230603T084942_N05.09',\n",
       " 'DATATAKE_IDENTIFIER': 'GS2B_20230603T084559_032594_N05.09',\n",
       " 'DATATAKE_TYPE': 'INS-NOBS',\n",
       " 'DEGRADED_MSI_DATA_PERCENTAGE': 0.0295,\n",
       " 'FORMAT_CORRECTNESS': 'PASSED',\n",
       " 'GENERAL_QUALITY': 'PASSED',\n",
       " 'GENERATION_TIME': 1685787786000,\n",
       " 'GEOMETRIC_QUALITY': 'PASSED',\n",
       " 'GRANULE_ID': 'L2A_T36TWS_A032594_20230603T084942',\n",
       " 'GRANULE_MEAN_AOT': 0.179637,\n",
       " 'GRANULE_MEAN_WV': 1.685923,\n",
       " 'HIGH_PROBA_CLOUDS_PERCENTAGE': 1.9891360000000002,\n",
       " 'IMAGE_DATE': '2023-06-03',\n",
       " 'L2A_QUALITY': 'PASSED',\n",
       " 'MEAN_INCIDENCE_AZIMUTH_ANGLE_B1': 285.657616482211,\n",
       " 'MEAN_INCIDENCE_AZIMUTH_ANGLE_B10': 285.335948620939,\n",
       " 'MEAN_INCIDENCE_AZIMUTH_ANGLE_B11': 285.435144310165,\n",
       " 'MEAN_INCIDENCE_AZIMUTH_ANGLE_B12': 285.565144811162,\n",
       " 'MEAN_INCIDENCE_AZIMUTH_ANGLE_B2': 285.314925751129,\n",
       " 'MEAN_INCIDENCE_AZIMUTH_ANGLE_B3': 285.388895797044,\n",
       " 'MEAN_INCIDENCE_AZIMUTH_ANGLE_B4': 285.441995687374,\n",
       " 'MEAN_INCIDENCE_AZIMUTH_ANGLE_B5': 285.474609923948,\n",
       " 'MEAN_INCIDENCE_AZIMUTH_ANGLE_B6': 285.525462832366,\n",
       " 'MEAN_INCIDENCE_AZIMUTH_ANGLE_B7': 285.585509213362,\n",
       " 'MEAN_INCIDENCE_AZIMUTH_ANGLE_B8': 285.353459265568,\n",
       " 'MEAN_INCIDENCE_AZIMUTH_ANGLE_B8A': 285.635344948504,\n",
       " 'MEAN_INCIDENCE_AZIMUTH_ANGLE_B9': 285.71981463412,\n",
       " 'MEAN_INCIDENCE_ZENITH_ANGLE_B1': 8.23277086799166,\n",
       " 'MEAN_INCIDENCE_ZENITH_ANGLE_B10': 8.08124785761021,\n",
       " 'MEAN_INCIDENCE_ZENITH_ANGLE_B11': 8.134031006942,\n",
       " 'MEAN_INCIDENCE_ZENITH_ANGLE_B12': 8.2061236326345,\n",
       " 'MEAN_INCIDENCE_ZENITH_ANGLE_B2': 8.02507568892907,\n",
       " 'MEAN_INCIDENCE_ZENITH_ANGLE_B3': 8.05157432521822,\n",
       " 'MEAN_INCIDENCE_ZENITH_ANGLE_B4': 8.0906129552723,\n",
       " 'MEAN_INCIDENCE_ZENITH_ANGLE_B5': 8.11291670421122,\n",
       " 'MEAN_INCIDENCE_ZENITH_ANGLE_B6': 8.13781225466344,\n",
       " 'MEAN_INCIDENCE_ZENITH_ANGLE_B7': 8.17325373747657,\n",
       " 'MEAN_INCIDENCE_ZENITH_ANGLE_B8': 8.03677900998576,\n",
       " 'MEAN_INCIDENCE_ZENITH_ANGLE_B8A': 8.19883270814693,\n",
       " 'MEAN_INCIDENCE_ZENITH_ANGLE_B9': 8.26863676208471,\n",
       " 'MEAN_SOLAR_AZIMUTH_ANGLE': 155.074734539783,\n",
       " 'MEAN_SOLAR_ZENITH_ANGLE': 25.8821012268089,\n",
       " 'MEDIUM_PROBA_CLOUDS_PERCENTAGE': 1.567722,\n",
       " 'MGRS_TILE': '36TWS',\n",
       " 'NODATA_PIXEL_PERCENTAGE': 13.698694,\n",
       " 'NOMINAL_SCALE': {'AOT': 10,\n",
       "  'B1': 60,\n",
       "  'B11': 20,\n",
       "  'B12': 20,\n",
       "  'B2': 10,\n",
       "  'B3': 10,\n",
       "  'B4': 10,\n",
       "  'B5': 20,\n",
       "  'B6': 20,\n",
       "  'B7': 20,\n",
       "  'B8': 10,\n",
       "  'B8A': 20,\n",
       "  'B9': 60,\n",
       "  'MSK_CLDPRB': 20,\n",
       "  'MSK_SNWPRB': 20,\n",
       "  'QA10': 10,\n",
       "  'QA20': 20,\n",
       "  'QA60': 60,\n",
       "  'SCL': 20,\n",
       "  'TCI_B': 10,\n",
       "  'TCI_G': 10,\n",
       "  'TCI_R': 10,\n",
       "  'WVP': 10},\n",
       " 'NOT_VEGETATED_PERCENTAGE': 21.367656,\n",
       " 'OZONE_SOURCE': 'AUX_ECMWFT',\n",
       " 'OZONE_VALUE': 338.47195,\n",
       " 'PROCESSING_BASELINE': '05.09',\n",
       " 'PRODUCT_ID': 'S2B_MSIL2A_20230603T084559_N0509_R107_T36TWS_20230603T102306',\n",
       " 'RADIATIVE_TRANSFER_ACCURACY': 0,\n",
       " 'RADIOMETRIC_QUALITY': 'PASSED',\n",
       " 'REFLECTANCE_CONVERSION_CORRECTION': 0.973232712806889,\n",
       " 'SATURATED_DEFECTIVE_PIXEL_PERCENTAGE': 0,\n",
       " 'SENSING_ORBIT_DIRECTION': 'DESCENDING',\n",
       " 'SENSING_ORBIT_NUMBER': 107,\n",
       " 'SENSOR_QUALITY': 'PASSED',\n",
       " 'SNOW_ICE_PERCENTAGE': 0.01898,\n",
       " 'SOLAR_IRRADIANCE_B1': 1874.3,\n",
       " 'SOLAR_IRRADIANCE_B10': 365.41,\n",
       " 'SOLAR_IRRADIANCE_B11': 247.08,\n",
       " 'SOLAR_IRRADIANCE_B12': 87.75,\n",
       " 'SOLAR_IRRADIANCE_B2': 1959.75,\n",
       " 'SOLAR_IRRADIANCE_B3': 1824.93,\n",
       " 'SOLAR_IRRADIANCE_B4': 1512.79,\n",
       " 'SOLAR_IRRADIANCE_B5': 1425.78,\n",
       " 'SOLAR_IRRADIANCE_B6': 1291.13,\n",
       " 'SOLAR_IRRADIANCE_B7': 1175.57,\n",
       " 'SOLAR_IRRADIANCE_B8': 1041.28,\n",
       " 'SOLAR_IRRADIANCE_B8A': 953.93,\n",
       " 'SOLAR_IRRADIANCE_B9': 817.58,\n",
       " 'SPACECRAFT_NAME': 'Sentinel-2B',\n",
       " 'THIN_CIRRUS_PERCENTAGE': 0.064145,\n",
       " 'UNCLASSIFIED_PERCENTAGE': 0.531738,\n",
       " 'VEGETATION_PERCENTAGE': 59.076124,\n",
       " 'WATER_PERCENTAGE': 13.287021,\n",
       " 'WATER_VAPOUR_RETRIEVAL_ACCURACY': 0,\n",
       " 'system:asset_size': '1425.151415 MB',\n",
       " 'system:band_names': ['B1',\n",
       "  'B2',\n",
       "  'B3',\n",
       "  'B4',\n",
       "  'B5',\n",
       "  'B6',\n",
       "  'B7',\n",
       "  'B8',\n",
       "  'B8A',\n",
       "  'B9',\n",
       "  'B11',\n",
       "  'B12',\n",
       "  'AOT',\n",
       "  'WVP',\n",
       "  'SCL',\n",
       "  'TCI_R',\n",
       "  'TCI_G',\n",
       "  'TCI_B',\n",
       "  'MSK_CLDPRB',\n",
       "  'MSK_SNWPRB',\n",
       "  'QA10',\n",
       "  'QA20',\n",
       "  'QA60'],\n",
       " 'system:id': 'COPERNICUS/S2_SR_HARMONIZED/20230603T084559_20230603T084942_T36TWS',\n",
       " 'system:index': '20230603T084559_20230603T084942_T36TWS',\n",
       " 'system:time_end': '2023-06-03 08:57:21',\n",
       " 'system:time_start': '2023-06-03 08:57:21',\n",
       " 'system:version': 1686500620500663}"
      ]
     },
     "execution_count": 67,
     "metadata": {},
     "output_type": "execute_result"
    }
   ],
   "source": [
    "MymapA=geemap.Map()\n",
    "collectionA=(ee.ImageCollection(\"COPERNICUS/S2_SR_HARMONIZED\")\n",
    "            .filterDate('2023-06-02','2023-06-11')\n",
    "            .filter(ee.Filter.lt('CLOUDY_PIXEL_PERCENTAGE',5))\n",
    "            .filterBounds(roi)\n",
    "           )\n",
    "\n",
    "MyimageA=collectionA.first()\n",
    "geemap.image_props(MyimageA).getInfo()"
   ]
  },
  {
   "cell_type": "markdown",
   "id": "57008d4e-0f37-44f4-ada1-9d1c1a7f1740",
   "metadata": {},
   "source": [
    "# Visualizing the image After the damage"
   ]
  },
  {
   "cell_type": "code",
   "execution_count": 68,
   "id": "ed322f2a-5c52-465c-80f5-5304081c63be",
   "metadata": {},
   "outputs": [
    {
     "data": {
      "application/vnd.jupyter.widget-view+json": {
       "model_id": "aa3c222eb37046d5a2289c3121935184",
       "version_major": 2,
       "version_minor": 0
      },
      "text/plain": [
       "Map(center=[46.76908971710835, 33.3477253157613], controls=(WidgetControl(options=['position', 'transparent_bg…"
      ]
     },
     "execution_count": 68,
     "metadata": {},
     "output_type": "execute_result"
    }
   ],
   "source": [
    "visa={\n",
    "    'min':0.0,\n",
    "    'max':3000,\n",
    "    'bands':['B8','B3','B2'],}\n",
    "MymapA.addLayer(MyimageA,visa,'After')\n",
    "MymapA.setCenter(33.3477253157613, 46.76908971710835,13)\n",
    "MymapA"
   ]
  },
  {
   "cell_type": "markdown",
   "id": "c5d0ef9d-2307-4fec-8150-68b55648057b",
   "metadata": {},
   "source": [
    "# Split Panel"
   ]
  },
  {
   "cell_type": "code",
   "execution_count": 69,
   "id": "41fee082-1c4c-4b5c-a410-876e4437f432",
   "metadata": {},
   "outputs": [
    {
     "data": {
      "application/vnd.jupyter.widget-view+json": {
       "model_id": "9fb71406da7f463bbcfbc54b21fdd171",
       "version_major": 2,
       "version_minor": 0
      },
      "text/plain": [
       "Map(center=[46.76908971710835, 33.3477253157613], controls=(ZoomControl(options=['position', 'zoom_in_text', '…"
      ]
     },
     "execution_count": 69,
     "metadata": {},
     "output_type": "execute_result"
    }
   ],
   "source": [
    "left_layer=geemap.ee_tile_layer(MyimageB,visb,'Before')\n",
    "right_layer=geemap.ee_tile_layer(MyimageA,visa,'After')\n",
    "Map = geemap.Map()\n",
    "Map.split_map(left_layer, right_layer)\n",
    "Map.setCenter(33.3477253157613, 46.76908971710835,13)\n",
    "Map"
   ]
  }
 ],
 "metadata": {
  "kernelspec": {
   "display_name": "Python 3 (ipykernel)",
   "language": "python",
   "name": "python3"
  },
  "language_info": {
   "codemirror_mode": {
    "name": "ipython",
    "version": 3
   },
   "file_extension": ".py",
   "mimetype": "text/x-python",
   "name": "python",
   "nbconvert_exporter": "python",
   "pygments_lexer": "ipython3",
   "version": "3.11.3"
  }
 },
 "nbformat": 4,
 "nbformat_minor": 5
}
